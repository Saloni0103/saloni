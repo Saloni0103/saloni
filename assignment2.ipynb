{
  "nbformat": 4,
  "nbformat_minor": 0,
  "metadata": {
    "colab": {
      "provenance": []
    },
    "kernelspec": {
      "name": "python3",
      "display_name": "Python 3"
    },
    "language_info": {
      "name": "python"
    }
  },
  "cells": [
    {
      "cell_type": "markdown",
      "source": [
        "Indentation Error\n",
        "\n",
        "In Python, indentation plays a crucial role in defining code blocks. Unlike some other programming languages that use curly braces ({}) or keywords (like begin and end), Python relies solely on indentation to determine the structure of your program. This means the number of spaces (usually 4) before a line of code dictates whether it belongs to a loop, a conditional statement (like if or else), a function definition, or simply a standalone statement.\n",
        "\n",
        "\n",
        "\n",
        "Importance of Indentation\n",
        "\n",
        "Readability: Consistent indentation makes your code visually easier to read and understand. It clearly separates code blocks and highlights the nesting structure. This becomes even more important as your programs grow more complex.\n",
        "\n",
        "Maintainability: When code is well-formatted with consistent indentation, it's easier to modify or debug later. You can readily identify the scope of loops, conditionals, and functions without getting lost in a sea of code.\n",
        "\n",
        "Correctness: As mentioned earlier, indentation errors can lead to unexpected behavior or errors. Proper indentation ensures that Python interprets your code blocks correctly, producing the desired results."
      ],
      "metadata": {
        "id": "zRRhYURC_QxV"
      }
    },
    {
      "cell_type": "code",
      "execution_count": 1,
      "metadata": {
        "colab": {
          "base_uri": "https://localhost:8080/"
        },
        "id": "dixttZcs--Lh",
        "outputId": "42d5774b-e1db-405e-cc28-48266443e4bb"
      },
      "outputs": [
        {
          "output_type": "stream",
          "name": "stdout",
          "text": [
            "Hello Alice\n"
          ]
        }
      ],
      "source": [
        "## Here's a common example:\n",
        "## Ques1\n",
        "def greet(name):\n",
        "  print(\"Hello\", name)\n",
        "\n",
        "greet(\"Alice\")"
      ]
    },
    {
      "cell_type": "code",
      "source": [
        "class_started = bool(input(\"Hey friend, is class started?: [0-false/1-true]\"))\n",
        "\n",
        "if class_started:\n",
        "  print(\"Since class is started...\")\n",
        "  print(\"Let's concentrate\")\n",
        "else:\n",
        "  print(\"Since class is not started...\")\n",
        "  print(\"Let's revise\")\n"
      ],
      "metadata": {
        "colab": {
          "base_uri": "https://localhost:8080/"
        },
        "id": "vXddnV3w_hHz",
        "outputId": "8e843599-764a-45de-97f8-5494d3b9805b"
      },
      "execution_count": 8,
      "outputs": [
        {
          "output_type": "stream",
          "name": "stdout",
          "text": [
            "Hey friend, is class started?: [0-false/1-true]0\n",
            "Since class is started...\n",
            "Let's concentrate\n"
          ]
        }
      ]
    },
    {
      "cell_type": "code",
      "source": [
        "user_input = input(\"Enter something: \")\n",
        "\n",
        "if type(user_input) == str:\n",
        "    print(\"The input is a string, as expected.\")\n",
        "else:\n",
        "    print(\"This should not happen, as input() always returns a string.\")\n",
        "\n",
        "processed_string = user_input.upper()\n",
        "print(\"Processed string:\", processed_string)\n"
      ],
      "metadata": {
        "colab": {
          "base_uri": "https://localhost:8080/"
        },
        "id": "j9p5sUjN_7dF",
        "outputId": "73d2abac-8a1d-446c-a2ff-ce4ae2bc4fae"
      },
      "execution_count": 15,
      "outputs": [
        {
          "output_type": "stream",
          "name": "stdout",
          "text": [
            "Enter something: true0\n",
            "The input is a string, as expected.\n",
            "Processed string: TRUE0\n"
          ]
        }
      ]
    },
    {
      "cell_type": "code",
      "source": [
        "num1 = 10\n",
        "num2 = 20\n",
        "num3 = 5\n",
        "\n",
        "largest = num1\n",
        "if num2 > largest:\n",
        "  largest = num2\n",
        "if num3 > largest:\n",
        "  largest = num3\n",
        "\n",
        "print(\"The largest number is:\", largest)\n"
      ],
      "metadata": {
        "colab": {
          "base_uri": "https://localhost:8080/"
        },
        "id": "sgk9k2ClBM8X",
        "outputId": "400146c3-a101-4298-b735-6606f98ccb0f"
      },
      "execution_count": 16,
      "outputs": [
        {
          "output_type": "stream",
          "name": "stdout",
          "text": [
            "The largest number is: 20\n"
          ]
        }
      ]
    },
    {
      "cell_type": "code",
      "source": [
        "##What would be the solution?\n",
        "##True\n",
        "##False\n",
        "\n",
        "a = 6\n",
        "b = 10\n",
        "print( not ( not a == 10 or not b == 10) )  ## the anwer will be False"
      ],
      "metadata": {
        "colab": {
          "base_uri": "https://localhost:8080/"
        },
        "id": "V5J_yylOEF1x",
        "outputId": "4d537c4e-775c-462e-e5d3-2691dccee144"
      },
      "execution_count": 17,
      "outputs": [
        {
          "output_type": "stream",
          "name": "stdout",
          "text": [
            "False\n"
          ]
        }
      ]
    },
    {
      "cell_type": "code",
      "source": [
        "##case 1:\n",
        "A = 5.0\n",
        "B = 10 / 2  # B is also a float (5.0)\n",
        "print(A is B)  # Output: True\n",
        "\n",
        "\n",
        "\n"
      ],
      "metadata": {
        "colab": {
          "base_uri": "https://localhost:8080/"
        },
        "id": "qQBfPKuzEiAq",
        "outputId": "a139eb24-f8c6-4b5f-a311-ca4fcaaab0bc"
      },
      "execution_count": 22,
      "outputs": [
        {
          "output_type": "stream",
          "name": "stdout",
          "text": [
            "False\n"
          ]
        }
      ]
    },
    {
      "cell_type": "code",
      "source": [
        "##case 2:\n",
        "A = 5.0\n",
        "B = int(10 / 2)  # B is an integer (5)\n",
        "print(A is B)  # Output: False"
      ],
      "metadata": {
        "colab": {
          "base_uri": "https://localhost:8080/",
          "height": 106
        },
        "id": "iSiuG2-AEzAD",
        "outputId": "cd04aeee-758e-47f6-d422-28cad3efef92"
      },
      "execution_count": 19,
      "outputs": [
        {
          "output_type": "error",
          "ename": "SyntaxError",
          "evalue": "invalid syntax (<ipython-input-19-06fd01fc47cc>, line 1)",
          "traceback": [
            "\u001b[0;36m  File \u001b[0;32m\"<ipython-input-19-06fd01fc47cc>\"\u001b[0;36m, line \u001b[0;32m1\u001b[0m\n\u001b[0;31m    case 2:\u001b[0m\n\u001b[0m         ^\u001b[0m\n\u001b[0;31mSyntaxError\u001b[0m\u001b[0;31m:\u001b[0m invalid syntax\n"
          ]
        }
      ]
    },
    {
      "cell_type": "code",
      "source": [
        "##case 3:\n",
        "A = 5.0\n",
        "B = float(10 / 2)  # B is a float (5.0)\n",
        "print(A is B)  # Output: True\n"
      ],
      "metadata": {
        "colab": {
          "base_uri": "https://localhost:8080/"
        },
        "id": "JFgsWyVAE1d0",
        "outputId": "ff922745-6cf0-43b1-d465-5cbf8f3d911a"
      },
      "execution_count": 23,
      "outputs": [
        {
          "output_type": "stream",
          "name": "stdout",
          "text": [
            "False\n"
          ]
        }
      ]
    },
    {
      "cell_type": "code",
      "source": [
        "user_input = int(input(\"Enter a number: \"))\n",
        "\n",
        "if user_input % 3 == 0 or user_input % 5 == 0:\n",
        "  print(f\"{user_input} is divisible by either 3 or 5.\")\n",
        "else:\n",
        "  print(f\"{user_input} is not divisible by either 3 or 5.\")\n",
        "\n"
      ],
      "metadata": {
        "colab": {
          "base_uri": "https://localhost:8080/"
        },
        "id": "JxnLz9wEFoXq",
        "outputId": "338d5976-a78b-4ee4-9571-04e194e0c33f"
      },
      "execution_count": 26,
      "outputs": [
        {
          "output_type": "stream",
          "name": "stdout",
          "text": [
            "Enter a number: 7\n",
            "7 is not divisible by either 3 or 5.\n"
          ]
        }
      ]
    },
    {
      "cell_type": "code",
      "source": [
        "def calculate_area(length, width):\n",
        "\n",
        "  return length * width\n",
        "\n",
        "length = float(input(\"Enter the length of the rectangle: \"))\n",
        "width = float(input(\"Enter the width of the rectangle: \"))\n",
        "\n",
        "area = calculate_area(length, width)\n",
        "\n",
        "if length == width:\n",
        "  print(f\"The shape is a square with area {area}.\")\n",
        "else:\n",
        "  print(f\"The shape is a rectangle with area {area}.\")\n"
      ],
      "metadata": {
        "colab": {
          "base_uri": "https://localhost:8080/"
        },
        "id": "NqK6GBr7GA4W",
        "outputId": "8a175ad1-8fe6-4cf8-ff3a-2b2f9a8d222c"
      },
      "execution_count": 28,
      "outputs": [
        {
          "output_type": "stream",
          "name": "stdout",
          "text": [
            "Enter the length of the rectangle: 10\n",
            "Enter the width of the rectangle: 10\n",
            "The shape is a square with area 100.0.\n"
          ]
        }
      ]
    },
    {
      "cell_type": "code",
      "source": [
        "pi = 3.14159\n",
        "def calculate_circle_area(radius):\n",
        "  return pi * radius**2\n",
        "\n",
        "radius_1 = float(input(\"Enter the radius of circle 1: \"))\n",
        "radius_2 = float(input(\"Enter the radius of circle 2: \"))\n",
        "\n",
        "area_1 = calculate_circle_area(radius_1)\n",
        "area_2 = calculate_circle_area(radius_2)\n",
        "\n",
        "if area_1 > area_2:\n",
        "  print(f\"Circle 1 with radius {radius_1} has a larger area ({area_1:.2f}) than Circle 2 with radius {radius_2} ({area_2:.2f}).\")\n",
        "elif area_1 < area_2:\n",
        "  print(f\"Circle 2 with radius {radius_2} has a larger area ({area_2:.2f}) than Circle 1 with radius {radius_1} ({area_1:.2f}).\")\n",
        "else:\n",
        "  print(f\"Both circles have equal areas ({area_1:.2f}).\")\n"
      ],
      "metadata": {
        "colab": {
          "base_uri": "https://localhost:8080/"
        },
        "id": "7kxEcZQPHANr",
        "outputId": "68d5f1cb-2ef9-413b-d8f1-29c675354a67"
      },
      "execution_count": 29,
      "outputs": [
        {
          "output_type": "stream",
          "name": "stdout",
          "text": [
            "Enter the radius of circle 1: 10\n",
            "Enter the radius of circle 2: 19\n",
            "Circle 2 with radius 19.0 has a larger area (1134.11) than Circle 1 with radius 10.0 (314.16).\n"
          ]
        }
      ]
    },
    {
      "cell_type": "code",
      "source": [
        "year = int(input(\"Enter a year: \"))\n",
        "\n",
        "if year % 4 == 0:\n",
        "  if year % 100 == 0:\n",
        "    if year % 400 == 0:\n",
        "      print(f\"{year} is a leap year.\")\n",
        "    else:\n",
        "      print(f\"{year} is not a leap year (century year not divisible by 400).\")\n",
        "  else:\n",
        "    print(f\"{year} is a leap year.\")\n",
        "else:\n",
        "  print(f\"{year} is not a leap year.\")\n"
      ],
      "metadata": {
        "colab": {
          "base_uri": "https://localhost:8080/"
        },
        "id": "1feCLpgcHWKn",
        "outputId": "f1da09e5-5690-4e1b-b419-a0418ee9b6aa"
      },
      "execution_count": 31,
      "outputs": [
        {
          "output_type": "stream",
          "name": "stdout",
          "text": [
            "Enter a year: 2000\n",
            "2000 is a leap year.\n"
          ]
        }
      ]
    },
    {
      "cell_type": "code",
      "source": [],
      "metadata": {
        "id": "UkeINSkqHjGk"
      },
      "execution_count": null,
      "outputs": []
    }
  ]
}