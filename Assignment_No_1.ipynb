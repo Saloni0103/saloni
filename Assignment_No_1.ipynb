{
  "nbformat": 4,
  "nbformat_minor": 0,
  "metadata": {
    "colab": {
      "provenance": []
    },
    "kernelspec": {
      "name": "python3",
      "display_name": "Python 3"
    },
    "language_info": {
      "name": "python"
    }
  },
  "cells": [
    {
      "cell_type": "markdown",
      "source": [
        "# **1. Find out all the types of error that we have encountered in our lecture and why? Also include the examples.**"
      ],
      "metadata": {
        "id": "whUx2yJMpt9U"
      }
    },
    {
      "cell_type": "markdown",
      "source": [
        "*i. For case sensetivity:*"
      ],
      "metadata": {
        "id": "YwxN2K7eerWB"
      }
    },
    {
      "cell_type": "code",
      "source": [
        "TEN = 10\n",
        "ten = 20\n",
        "print(TEN) # Ten was not defined. because we give her TEN  and ten but after we give a instruction is Ten so it is error"
      ],
      "metadata": {
        "colab": {
          "base_uri": "https://localhost:8080/"
        },
        "id": "T9H4b0d9fq_e",
        "outputId": "5f9790ee-1d16-4ac0-950e-9777a99245c5"
      },
      "execution_count": 1,
      "outputs": [
        {
          "output_type": "stream",
          "name": "stdout",
          "text": [
            "10\n"
          ]
        }
      ]
    },
    {
      "cell_type": "markdown",
      "source": [
        "*ii. We should not use reserved words as variable names*"
      ],
      "metadata": {
        "id": "INb04RXUf5f9"
      }
    },
    {
      "cell_type": "code",
      "source": [
        "print(\"Hi there\")\n",
        "\n",
        "print = \"Hi there\" # as a variable\n",
        "type(print)\n",
        "del print\n",
        "print(\"Hi there\")"
      ],
      "metadata": {
        "colab": {
          "base_uri": "https://localhost:8080/"
        },
        "id": "9dd7ZQobeUOK",
        "outputId": "d3ad2db7-5ccf-4f0a-f03a-eef3c1e330d9"
      },
      "execution_count": 2,
      "outputs": [
        {
          "output_type": "stream",
          "name": "stdout",
          "text": [
            "Hi there\n",
            "Hi there\n"
          ]
        }
      ]
    },
    {
      "cell_type": "code",
      "source": [
        "# delete the variable print\n",
        "del print"
      ],
      "metadata": {
        "id": "RhbfFLCTgfP9"
      },
      "execution_count": null,
      "outputs": []
    },
    {
      "cell_type": "markdown",
      "source": [
        "*iii. Whenever we will take user input variable, we should mention the datatype. Because by default it takes as string literal. Thy for next use, the input can create an issue, like through an error or may lead to an unexpected output.*"
      ],
      "metadata": {
        "id": "QLuRHVoWgybH"
      }
    },
    {
      "cell_type": "code",
      "source": [
        "# calcualte the age of the user\n",
        "\n",
        "name = input(\"Name: \") # always gives you string values\n",
        "place = input(\"place: \")\n",
        "year_of_birth = int(input(\"year_of_birth: \"))\n",
        "\n",
        "age = 2022 - year_of_birth\n",
        "\n",
        "print(f\"\"\"\n",
        "My name is: {name}\n",
        "I live at: {place}\n",
        "{name} is of age: {age}\n",
        "\"\"\")"
      ],
      "metadata": {
        "colab": {
          "base_uri": "https://localhost:8080/"
        },
        "id": "FQBBKWCBh0vj",
        "outputId": "e75d91c3-54dc-4370-f3d8-90b2498a1146"
      },
      "execution_count": 4,
      "outputs": [
        {
          "output_type": "stream",
          "name": "stdout",
          "text": [
            "Name: saloni aggarwal\n",
            "place: Meerut UP\n",
            "year_of_birth: 1999\n",
            "\n",
            "My name is: saloni aggarwal\n",
            "I live at: Meerut UP\n",
            "saloni aggarwal is of age: 23\n",
            "\n"
          ]
        }
      ]
    },
    {
      "cell_type": "markdown",
      "source": [
        "*iv. If we mentioned the datatype of input variable, then we need to remember, while putting the value, we need to put exact mentioned datatype's value.*"
      ],
      "metadata": {
        "id": "Qc47Mk-0ii2p"
      }
    },
    {
      "cell_type": "code",
      "source": [
        "A = float(input(\"Enter value of A: \"))\n",
        "B = int(input(\"Enter value of B: \")) # 10.2 is float but converting to int\n",
        "\n",
        "print(f\"Sum of A and B is: {A+B}\")"
      ],
      "metadata": {
        "colab": {
          "base_uri": "https://localhost:8080/"
        },
        "id": "5K-IHhtvjlFR",
        "outputId": "d0a09c43-c0fc-401e-855c-9fc3b0e14eee"
      },
      "execution_count": 5,
      "outputs": [
        {
          "output_type": "stream",
          "name": "stdout",
          "text": [
            "Enter value of A: 10.89\n",
            "Enter value of B: 22\n",
            "Sum of A and B is: 32.89\n"
          ]
        }
      ]
    },
    {
      "cell_type": "markdown",
      "source": [
        "*v. We can't change an empty string to any datatype*\n",
        "\n",
        "--- yes we can't change this it is always error\n",
        "\n"
      ],
      "metadata": {
        "id": "jtE_-Q3DkD7P"
      }
    },
    {
      "cell_type": "code",
      "source": [
        "# empty string to int\n",
        "A = \"\"\n",
        "print(f\"data type before: {type(A)}, value of A: {A}\")\n",
        "A = int(A)\n",
        "print(f\"data type after: {type(A)}, value of A: {A}\")"
      ],
      "metadata": {
        "colab": {
          "base_uri": "https://localhost:8080/",
          "height": 263
        },
        "id": "AJZoOah3kPvE",
        "outputId": "d853ed1d-db18-488b-cc5e-c2bb7b739bf4"
      },
      "execution_count": 10,
      "outputs": [
        {
          "output_type": "stream",
          "name": "stdout",
          "text": [
            "\"\"\n",
            "data type before: <class 'str'>, value of A: \"\"\n"
          ]
        },
        {
          "output_type": "error",
          "ename": "ValueError",
          "evalue": "ignored",
          "traceback": [
            "\u001b[0;31m---------------------------------------------------------------------------\u001b[0m",
            "\u001b[0;31mValueError\u001b[0m                                Traceback (most recent call last)",
            "\u001b[0;32m<ipython-input-10-682159d4460a>\u001b[0m in \u001b[0;36m<cell line: 4>\u001b[0;34m()\u001b[0m\n\u001b[1;32m      2\u001b[0m \u001b[0mA\u001b[0m \u001b[0;34m=\u001b[0m \u001b[0minput\u001b[0m\u001b[0;34m(\u001b[0m\u001b[0;34m\"\"\u001b[0m\u001b[0;34m)\u001b[0m\u001b[0;34m\u001b[0m\u001b[0;34m\u001b[0m\u001b[0m\n\u001b[1;32m      3\u001b[0m \u001b[0mprint\u001b[0m\u001b[0;34m(\u001b[0m\u001b[0;34mf\"data type before: {type(A)}, value of A: {A}\"\u001b[0m\u001b[0;34m)\u001b[0m\u001b[0;34m\u001b[0m\u001b[0;34m\u001b[0m\u001b[0m\n\u001b[0;32m----> 4\u001b[0;31m \u001b[0mA\u001b[0m \u001b[0;34m=\u001b[0m \u001b[0mint\u001b[0m\u001b[0;34m(\u001b[0m\u001b[0mA\u001b[0m\u001b[0;34m)\u001b[0m\u001b[0;34m\u001b[0m\u001b[0;34m\u001b[0m\u001b[0m\n\u001b[0m\u001b[1;32m      5\u001b[0m \u001b[0mprint\u001b[0m\u001b[0;34m(\u001b[0m\u001b[0;34mf\"data type after: {type(A)}, value of A: {A}\"\u001b[0m\u001b[0;34m)\u001b[0m\u001b[0;34m\u001b[0m\u001b[0;34m\u001b[0m\u001b[0m\n",
            "\u001b[0;31mValueError\u001b[0m: invalid literal for int() with base 10: '\"\"'"
          ]
        }
      ]
    },
    {
      "cell_type": "markdown",
      "source": [
        "# **2. Take input A and B and print their sum, mul, div, square of the nos.**"
      ],
      "metadata": {
        "id": "xhagdikQpy65"
      }
    },
    {
      "cell_type": "code",
      "source": [
        "# taking the user inputs\n",
        "a = int(input(\"Enter 1st number: \"))\n",
        "b = int(input(\"Enter 2nd number: \"))\n",
        "\n",
        "# mathematical equations\n",
        "sum = a + b\n",
        "mul = a * b\n",
        "div = a / b\n",
        "square = a ** 2\n",
        "\n",
        "print()\n",
        "\n",
        "# printing the results\n",
        "print(f\"The 'sum' of {a} & {b} is: {sum}\")\n",
        "print(f\"The 'mul' of {a} & {b} is: {mul}\")\n",
        "print(f\"The 'div' of {a} & {b} is: {div}\")\n",
        "print(f\"The 'square' of {a} & {b} is: {square}\")"
      ],
      "metadata": {
        "colab": {
          "base_uri": "https://localhost:8080/"
        },
        "id": "yptX2KXHqyxv",
        "outputId": "0c151e4e-efa7-4476-9591-aff681818b87"
      },
      "execution_count": 11,
      "outputs": [
        {
          "output_type": "stream",
          "name": "stdout",
          "text": [
            "Enter 1st number: 2000\n",
            "Enter 2nd number: 3000\n",
            "\n",
            "The 'sum' of 2000 & 3000 is: 5000\n",
            "The 'mul' of 2000 & 3000 is: 6000000\n",
            "The 'div' of 2000 & 3000 is: 0.6666666666666666\n",
            "The 'square' of 2000 & 3000 is: 4000000\n"
          ]
        }
      ]
    },
    {
      "cell_type": "markdown",
      "source": [
        "# **3. How many reserve keywords are there in python and why we should not use them as a variable name.**"
      ],
      "metadata": {
        "id": "FJwFdkUrp52W"
      }
    },
    {
      "cell_type": "markdown",
      "source": [
        "[link text](https://)* There are only 31 reserve keywords in python.\n",
        "* We shouldn't use those as variable name because if I will use those words as variable, then those might revert in the data type of the variable, and for future use of those variable as keywords, will through an error.\n",
        "yes it will be error"
      ],
      "metadata": {
        "id": "hYwbegFVxh9F"
      }
    },
    {
      "cell_type": "markdown",
      "source": [
        "# **4. Create email ids with the user inputs. in the following format - lastname.firstname@gmail.com**"
      ],
      "metadata": {
        "id": "h1lh17Jup_3b"
      }
    },
    {
      "cell_type": "code",
      "source": [
        "# taking the user inputs\n",
        "first_name = input(\"Enter the first name: \")\n",
        "last_name = input(\"Enter the last name: \")\n",
        "\n",
        "# creating the email id\n",
        "print(f\"The user email id is: {last_name}.{first_name}@gmail.com\")"
      ],
      "metadata": {
        "colab": {
          "base_uri": "https://localhost:8080/"
        },
        "id": "RnF9bV_9xk2C",
        "outputId": "6046eeca-123c-43cc-a46f-d01f91663611"
      },
      "execution_count": 12,
      "outputs": [
        {
          "output_type": "stream",
          "name": "stdout",
          "text": [
            "Enter the first name: aggarwal\n",
            "Enter the last name: saloni\n",
            "The user email id is: saloni.aggarwal@gmail.com\n"
          ]
        }
      ]
    },
    {
      "cell_type": "markdown",
      "source": [
        "# 5. Try to print the following lines -\n",
        " * **Hi I'm Sunny**\n",
        " * **My address is 22\\3**\n",
        " * **I earn 20$ daily.**  "
      ],
      "metadata": {
        "id": "arBj5wPFqJSd"
      }
    },
    {
      "cell_type": "code",
      "source": [
        "# taking the user inputs\n",
        "statement_1 = \"Hi I'm saloni\"\n",
        "statement_2 = \"My address is 247/4\"\n",
        "statement_3 = \"I earn 20$ daily.\"\n",
        "\n",
        "# printing the statements\n",
        "print(f\" {statement_1}\")\n",
        "print(f\" {statement_2}\")\n",
        "print(f\" {statement_3}\")\n"
      ],
      "metadata": {
        "colab": {
          "base_uri": "https://localhost:8080/"
        },
        "id": "n9JjyoJS0lXn",
        "outputId": "c378e9d6-bba3-43fa-e880-d26dd3d2cc41"
      },
      "execution_count": 14,
      "outputs": [
        {
          "output_type": "stream",
          "name": "stdout",
          "text": [
            " Hi I'm saloni\n",
            " My address is 247/4\n",
            " I earn 20$ daily.\n"
          ]
        }
      ]
    },
    {
      "cell_type": "markdown",
      "source": [
        "# **6. Take user input (name, address, date of birth etc) to fill a form for your college and print their email IDs**"
      ],
      "metadata": {
        "id": "B8BGpUL4qU3U"
      }
    },
    {
      "cell_type": "code",
      "source": [
        "# taking the user inputs\n",
        "first_name = input(\"Enter your first name: \")\n",
        "last_name = input(\"Enter your last name: \")\n",
        "\n",
        "house_no = input(\"Enter your house_no: \")\n",
        "vill_or_city = input(\"Enter your Village/City name: \")\n",
        "po = input(\"Enter your Post Office: \")\n",
        "ps = input(\"Enter your Police Station: \")\n",
        "pin = input(\"Enter your Postal Code: \")\n",
        "dist = input(\"Enter your District: \")\n",
        "state = input(\"Enter your State: \")\n",
        "\n",
        "dob = input(\"Enter your date of birth: \")\n",
        "\n",
        "# printing the outputs\n",
        "print(f\"\\nYour full name: {first_name} {last_name}\")\n",
        "\n",
        "print()\n",
        "\n",
        "print(f\"\"\"Your full address:-\n",
        "house_no: {house_no},\n",
        "Village/City name: {vill_or_city},\n",
        "Post Office: {po},\n",
        "Police Station: {ps},\n",
        "Postal Code: {pin},\n",
        "District: {dist},\n",
        "State: {state}\"\"\")\n",
        "\n",
        "print()\n",
        "\n",
        "print(f\"Your D.O.B. is: {dob}\")\n",
        "\n",
        "print()\n",
        "\n",
        "\n",
        "# creating the email id\n",
        "print(f\"The user email id is: {(last_name.lower())}.{(first_name.lower())}@gmail.com\")\n"
      ],
      "metadata": {
        "colab": {
          "base_uri": "https://localhost:8080/"
        },
        "id": "AAqIEtAv2Xmt",
        "outputId": "a0b36bbe-2b1c-4256-bb8d-266a4ee94134"
      },
      "execution_count": 15,
      "outputs": [
        {
          "output_type": "stream",
          "name": "stdout",
          "text": [
            "Enter your first name: Saloni \n",
            "Enter your last name: Aggarwal\n",
            "Enter your house_no: 247/4\n",
            "Enter your Village/City name: Meerut city\n",
            "Enter your Post Office: Bharampuri\n",
            "Enter your Police Station: Bhrampuri police station\n",
            "Enter your Postal Code: 250002\n",
            "Enter your District: Meerut\n",
            "Enter your State: Uttar pradesh\n",
            "Enter your date of birth: 30\n",
            "\n",
            "Your full name: Saloni  Aggarwal\n",
            "\n",
            "Your full address:- \n",
            "house_no: 247/4,\n",
            "Village/City name: Meerut city,\n",
            "Post Office: Bharampuri,\n",
            "Police Station: Bhrampuri police station,\n",
            "Postal Code: 250002,\n",
            "District: Meerut,\n",
            "State: Uttar pradesh\n",
            "\n",
            "Your D.O.B. is: 30\n",
            "\n",
            "The user email id is: aggarwal.saloni @gmail.com\n"
          ]
        }
      ]
    },
    {
      "cell_type": "markdown",
      "source": [
        "7. Convert the following -\n",
        " * \"22.4\" into integer\n",
        " * \"22\" into complex no."
      ],
      "metadata": {
        "id": "9YBUnfLeqbfK"
      }
    },
    {
      "cell_type": "code",
      "execution_count": 18,
      "metadata": {
        "colab": {
          "base_uri": "https://localhost:8080/"
        },
        "id": "7Hqv1aldpLMP",
        "outputId": "75bc5a79-53e2-477f-d4ce-556dc1cf0d3e"
      },
      "outputs": [
        {
          "output_type": "stream",
          "name": "stdout",
          "text": [
            "The data type of given number is: <class 'str'>, value of x: 30\n",
            "After converting '22.4' into integer: 30\n",
            "\n",
            "The data type of given number is: <class 'str'>, value of x: 72.05\n",
            "After converting '22' into float: 72.05\n"
          ]
        }
      ],
      "source": [
        "# str to integer\n",
        "x = \"30\"\n",
        "print(f\"The data type of given number is: {type(x)}, value of x: {x}\")\n",
        "x = int(x)\n",
        "print(f\"After converting '22.4' into integer: {x}\")\n",
        "\n",
        "print()\n",
        "\n",
        "# str to float\n",
        "y = \"72.05\"\n",
        "print(f\"The data type of given number is: {type(y)}, value of x: {y}\")\n",
        "y = float(y)\n",
        "print(f\"After converting '22' into float: {y}\")"
      ]
    },
    {
      "cell_type": "code",
      "source": [],
      "metadata": {
        "id": "881DGSL5O_m7"
      },
      "execution_count": null,
      "outputs": []
    }
  ]
}