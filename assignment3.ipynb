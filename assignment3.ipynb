{
  "nbformat": 4,
  "nbformat_minor": 0,
  "metadata": {
    "colab": {
      "provenance": []
    },
    "kernelspec": {
      "name": "python3",
      "display_name": "Python 3"
    },
    "language_info": {
      "name": "python"
    }
  },
  "cells": [
    {
      "cell_type": "markdown",
      "source": [
        "1. Why are functions advantageous to have in your programs?\n",
        "\n",
        "Functions offer several benefits:\n",
        "\n",
        "Code reusability: You can write a function once and use it multiple times in your program, avoiding code duplication and saving time.\n",
        "Modularization: Functions break down complex programs into smaller, manageable parts, improving readability and maintainability.\n",
        "Encapsulation: Functions can hide implementation details, making code easier to understand and modify without affecting other parts.\n",
        "Testing: Functions can be tested independently, simplifying the debugging process.\n",
        "2. When does the code in a function run: when it's specified or when it's called?\n",
        "\n",
        "The code in a function definition is not executed when you define the function, it's only executed when you call the function. Think of a function definition as a blueprint - it tells Python what the function does, but it doesn't actually run the code until you call it.\n",
        "\n",
        "3. What statement creates a function?\n",
        "\n",
        "The def keyword is used to create a function in Python. Here's the basic structure:\n",
        "\n",
        "Python\n",
        "def function_name(parameters):\n",
        "  # Function body (code to be executed)\n",
        "  return value (optional)\n",
        "Use code with caution.\n",
        "4. What is the difference between a function and a function call?\n",
        "\n",
        "Function: A reusable block of code that performs a specific task. It's defined with the def keyword and has a name, parameters (optional), and a code body.\n",
        "Function call: The act of executing the code defined within a function. You call a function by using its name along with any necessary arguments (values passed to the function's parameters).\n",
        "5. How many global scopes are there in a Python program? How many local scopes?\n",
        "\n",
        "Global scope: There is only one global scope in a Python program. It encompasses all code outside of any function definitions. Variables defined in the global scope are accessible throughout the entire program.\n",
        "Local scopes: Each function has its own local scope, separate from the global scope. Variables defined within a function are only accessible inside that function.\n",
        "6. What happens to variables in a local scope when the function call returns?\n",
        "\n",
        "When a function call returns, all local variables within the function's scope are destroyed. They are no longer accessible unless the function is called again.\n",
        "\n",
        "7. What is the concept of a return value? Is it possible to have a return value in an expression?\n",
        "\n",
        "Return value: The return statement allows a function to optionally send a value back to the place where it was called. This value can be used in the expression where the function is called.\n",
        "Return value in an expression: Yes, you can use an expression as a return value. The expression is evaluated, and its result becomes the return value of the function.\n",
        "8. If a function does not have a return statement, what is the return value of a call to that function?\n",
        "\n",
        "If a function doesn't have an explicit return statement, it implicitly returns None. None is a special data type in Python signifying the absence of a meaningful value.\n",
        "\n",
        "9. How do you make a function variable refer to the global variable?\n",
        "\n",
        "To make a function variable refer to a global variable, you can use the global keyword within the function:\n",
        "\n",
        "Python\n",
        "global_variable = 10\n",
        "\n",
        "def my_function():\n",
        "  global global_variable\n",
        "  global_variable += 5  # Modifies the global variable\n",
        "\n",
        "my_function()\n",
        "print(global_variable)  # Output: 15\n",
        "Use code with caution.\n",
        "10. What is the data type of None?\n",
        "\n",
        "None is a special data type in Python that represents the absence of a value. It's often used as the default return value for functions that don't explicitly return anything.\n",
        "\n",
        "11. What does the sentence import areallyourpetsnamederic do?\n",
        "\n",
        "This statement attempts to import a module named areallyourpetsnamederic. However, it's highly unlikely that such a module exists. Python will raise an ImportError if it can't find the specified module.\n",
        "\n",
        "12. If you had a bacon() feature in a spam module, what would you call it after importing spam?\n",
        "\n",
        "After importing the spam module, you would call the function using spam.bacon(). The dot notation (module_name.function_name) is used to access functions and variables within imported modules.\n",
        "\n",
        "13. What can you do to save a programme from crashing if it encounters an error?\n",
        "\n",
        "You can use try-except blocks to handle potential errors gracefully. Here's the basic structure"
      ],
      "metadata": {
        "id": "1mP5OPFD3gXg"
      }
    },
    {
      "cell_type": "code",
      "source": [
        "text = \"Welcome to iNeuron, You are a part of FSDS Bootcamp 2 in iNeuron. I hope you are enjoying the course by iNeuron\"\n",
        "\n",
        "\n",
        "count = text_lower.count(\"ineuron\")\n",
        "\n",
        "print(f\"The number of times 'iNeuron'  appears in the text: {count}\")\n"
      ],
      "metadata": {
        "colab": {
          "base_uri": "https://localhost:8080/"
        },
        "id": "1pGJ-smR3ofl",
        "outputId": "f0fa3085-20df-4d91-e32b-5b39ebfc1db6"
      },
      "execution_count": 17,
      "outputs": [
        {
          "output_type": "stream",
          "name": "stdout",
          "text": [
            "The number of times 'iNeuron'  appears in the text: 3\n"
          ]
        }
      ]
    },
    {
      "cell_type": "code",
      "source": [
        "text = \"Hello, welcome to FSDS 2.0 at iNeuron.\"\n",
        "\n",
        "substring = text[5:11]\n",
        "\n",
        "ends_with_ineuron = substring.endswith(\"iNeuron\")\n",
        "\n",
        "if ends_with_ineuron:\n",
        "  print(\"The phrase between positions 5 to 11 ends with 'iNeuron'.\")\n",
        "else:\n",
        "  print(\"The phrase between positions 5 to 11 does not end with 'iNeuron'.\")\n"
      ],
      "metadata": {
        "colab": {
          "base_uri": "https://localhost:8080/"
        },
        "id": "GZKxNkRe34WJ",
        "outputId": "6d026243-e7fd-48c4-9878-2103a36e8849"
      },
      "execution_count": 18,
      "outputs": [
        {
          "output_type": "stream",
          "name": "stdout",
          "text": [
            "The phrase between positions 5 to 11 does not end with 'iNeuron'.\n"
          ]
        }
      ]
    },
    {
      "cell_type": "code",
      "source": [
        "def abbreviate_name(full_name):\n",
        "\n",
        "  name_parts = full_name.split()\n",
        "\n",
        "  initials = \"\"\n",
        "\n",
        "  for i, name_part in enumerate(name_parts[:-1]):\n",
        "    initial = name_part[0].upper()\n",
        "    initials += initial + \".\"\n",
        "\n",
        "  initials += name_parts[-1]\n",
        "\n",
        "  return initials\n",
        "\n",
        "full_name = input(\"Enter your full name: \")\n",
        "\n",
        "abbreviated_name = abbreviate_name(full_name)\n",
        "\n",
        "print(\"Abbreviated name:\", abbreviated_name)\n"
      ],
      "metadata": {
        "colab": {
          "base_uri": "https://localhost:8080/"
        },
        "id": "IYOTfBPk4lkK",
        "outputId": "8ddc68ae-e39c-4180-e3da-0f9268bbb2a3"
      },
      "execution_count": 22,
      "outputs": [
        {
          "output_type": "stream",
          "name": "stdout",
          "text": [
            "Enter your full name: saloni aggarwal aggarwal\n",
            "Abbreviated name: S.A.aggarwal\n"
          ]
        }
      ]
    },
    {
      "cell_type": "code",
      "source": [
        "LIST = [\"My\", \"name\", \"is\", \"saloni\", \"aggarwal\"]\n",
        "\n",
        "joined_string = \"#\".join(LIST)\n",
        "\n",
        "print(joined_string)\n"
      ],
      "metadata": {
        "colab": {
          "base_uri": "https://localhost:8080/"
        },
        "id": "VRyQuuii5GE4",
        "outputId": "ed81c5b9-8133-4652-96ff-0dd0df83c380"
      },
      "execution_count": 24,
      "outputs": [
        {
          "output_type": "stream",
          "name": "stdout",
          "text": [
            "My#name#is#saloni#aggarwal\n"
          ]
        }
      ]
    },
    {
      "cell_type": "code",
      "source": [
        "####Write example for the following string manipulation function,\n",
        "\n",
        "##- isdecimal()\n",
        "##- islower()\n",
        "##- isupper()\n",
        "##- isalpha()\n",
        "##- isnumeric()\n",
        "\n",
        "\n",
        "\n",
        "text1 = \"Hello123\"\n",
        "text2 = \"hello\"\n",
        "text3 = \"HELLO\"\n",
        "text4 = \"HelloWorld\"\n",
        "text5 = \"123.45\"\n",
        "\n",
        "# Check for decimal digits\n",
        "print(f\"{text1} is decimal: {text1.isdecimal()}\")\n",
        "print(f\"{text2} is decimal: {text2.isdecimal()}\")\n",
        "print(f\"{text3} is decimal: {text3.isdecimal()}\")\n",
        "print(f\"{text4} is decimal: {text4.isdecimal()}\")\n",
        "print(f\"{text5} is decimal: {text5.isdecimal()}\")\n",
        "\n",
        "print(f\"\\n{text1} is lowercase: {text1.islower()}\")\n",
        "print(f\"{text2} is lowercase: {text2.islower()}\")\n",
        "print(f\"{text3} is lowercase: {text3.islower()}\")\n",
        "print(f\"{text4} is lowercase: {text4.islower()}\")\n",
        "print(f\"{text5} is lowercase: {text5.islower()}\")\n",
        "\n",
        "print(f\"\\n{text1} is uppercase: {text1.isupper()}\")\n",
        "print(f\"{text2} is uppercase: {text2.isupper()}\")\n",
        "print(f\"{text3} is uppercase: {text3.isupper()}\")\n",
        "print(f\"{text4} is uppercase: {text4.isupper()}\")\n",
        "print(f\"{text5} is uppercase: {text5.isupper()}\")\n",
        "\n",
        "print(f\"\\n{text1} is alphabetic: {text1.isalpha()}\")\n",
        "print(f\"{text2} is alphabetic: {text2.isalpha()}\")\n",
        "print(f\"{text3} is alphabetic: {text3.isalpha()}\")\n",
        "print(f\"{text4} is alphabetic: {text4.isalpha()}\")\n",
        "print(f\"{text5} is alphabetic: {text5.isalpha()}\")\n",
        "\n",
        "print(f\"\\n{text1} is numeric: {text1.isnumeric()}\")\n",
        "print(f\"{text2} is numeric: {text2.isnumeric()}\")\n",
        "print(f\"{text3} is numeric: {text3.isnumeric()}\")\n",
        "print(f\"{text4} is numeric: {text4.isnumeric()}\")\n",
        "print(f\"{text5} is numeric: {text5.isnumeric()}\")\n"
      ],
      "metadata": {
        "colab": {
          "base_uri": "https://localhost:8080/"
        },
        "id": "UR3JOlG657KO",
        "outputId": "aef86652-ad01-48ce-8df6-684f42585067"
      },
      "execution_count": 25,
      "outputs": [
        {
          "output_type": "stream",
          "name": "stdout",
          "text": [
            "Hello123 is decimal: False\n",
            "hello is decimal: False\n",
            "HELLO is decimal: False\n",
            "HelloWorld is decimal: False\n",
            "123.45 is decimal: False\n",
            "\n",
            "Hello123 is lowercase: False\n",
            "hello is lowercase: True\n",
            "HELLO is lowercase: False\n",
            "HelloWorld is lowercase: False\n",
            "123.45 is lowercase: False\n",
            "\n",
            "Hello123 is uppercase: False\n",
            "hello is uppercase: False\n",
            "HELLO is uppercase: True\n",
            "HelloWorld is uppercase: False\n",
            "123.45 is uppercase: False\n",
            "\n",
            "Hello123 is alphabetic: False\n",
            "hello is alphabetic: True\n",
            "HELLO is alphabetic: True\n",
            "HelloWorld is alphabetic: True\n",
            "123.45 is alphabetic: False\n",
            "\n",
            "Hello123 is numeric: False\n",
            "hello is numeric: False\n",
            "HELLO is numeric: False\n",
            "HelloWorld is numeric: False\n",
            "123.45 is numeric: False\n"
          ]
        }
      ]
    },
    {
      "cell_type": "code",
      "source": [
        "def valid(pan_card):                      ####Indian PAN card format follows the following formats -\n",
        "\n",
        "  pattern = r\"^[A-Z]{5}[0-9]{4}[A-Z]$\"\n",
        "\n",
        "  import re\n",
        "  match = re.match(pattern, pan_card)\n",
        "\n",
        "  return bool(match)\n",
        "\n",
        "pan_card = input(\"Enter your PAN card number: \").upper()\n",
        "\n",
        "if valid(pan_card):\n",
        "  print(\"Valid PAN card format.\")\n",
        "else:\n",
        "  print(\"Invalid PAN card format. Please follow the format: AAAAA1111A).\")\n"
      ],
      "metadata": {
        "colab": {
          "base_uri": "https://localhost:8080/"
        },
        "id": "YMxCwbrX6SV5",
        "outputId": "d84a3257-e7bb-46a5-fe45-cc078ee794f7"
      },
      "execution_count": 28,
      "outputs": [
        {
          "output_type": "stream",
          "name": "stdout",
          "text": [
            "Enter your PAN card number: kfjosigjfos\n",
            "Invalid PAN card format. Please follow the format: AAAAA1111A).\n"
          ]
        }
      ]
    },
    {
      "cell_type": "code",
      "source": [],
      "metadata": {
        "id": "khpD7rSb7S3o"
      },
      "execution_count": null,
      "outputs": []
    }
  ]
}