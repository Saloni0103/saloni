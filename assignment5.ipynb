{
  "nbformat": 4,
  "nbformat_minor": 0,
  "metadata": {
    "colab": {
      "provenance": []
    },
    "kernelspec": {
      "name": "python3",
      "display_name": "Python 3"
    },
    "language_info": {
      "name": "python"
    }
  },
  "cells": [
    {
      "cell_type": "markdown",
      "source": [
        "1. What does an empty dictionary&#39;s code look like?\n",
        "\n",
        "answer: In python curly brackets {} are used to define an empty dictionary.\n"
      ],
      "metadata": {
        "id": "G_kXO-NlW6bz"
      }
    },
    {
      "cell_type": "markdown",
      "source": [
        "2. What is the value of a dictionary value with the key 'foo' and the value 42?\n",
        " Answer: If in dictionary the key \"foo\" exists, the vlaue will be 42.\n"
      ],
      "metadata": {
        "id": "MPctZshMXSAE"
      }
    },
    {
      "cell_type": "code",
      "execution_count": 1,
      "metadata": {
        "colab": {
          "base_uri": "https://localhost:8080/"
        },
        "id": "7VWn8FGZW3IB",
        "outputId": "4c7ed19d-2e1c-40ba-fb3d-44635678c27f"
      },
      "outputs": [
        {
          "output_type": "execute_result",
          "data": {
            "text/plain": [
              "dict_values(['42'])"
            ]
          },
          "metadata": {},
          "execution_count": 1
        }
      ],
      "source": [
        "#2\n",
        "my_dict={\"foo\":\"42\"}\n",
        "my_dict.values()"
      ]
    },
    {
      "cell_type": "markdown",
      "source": [
        "3. What is the most significant distinction between a dictionary and a list?\n",
        "**\n",
        "Answer: The main difference between a list and a dictionary is that a list is mutable while a dictionary is immutable."
      ],
      "metadata": {
        "id": "6VVFrOwsX_HO"
      }
    },
    {
      "cell_type": "markdown",
      "source": [
        "4. What happens if you try to access spam [\"foo\"] if spam is {bar: 100}?\n",
        "\n",
        "**\n",
        "\n",
        "Answer: It will throw an error.\n",
        "because the key \"foo\" does not exist in the dictionary using square brackets [] will result in a KeyError."
      ],
      "metadata": {
        "id": "8p7cW5_TYPKK"
      }
    },
    {
      "cell_type": "markdown",
      "source": [
        "5. If a dictionary is stored in spam, what is the difference between the expressions 'cat' in spam and 'cat' in spam.keys()?\n",
        "**\n",
        "Answer: There is no difference between the expressions \"cat\" in spam and \"cat\" in spam.keys(). if you are checking key exists both expressions evaluate to true.\n",
        "if the key \"cat\" in the dictionary spam and false otherwise.\n"
      ],
      "metadata": {
        "id": "btRLKMngZRO3"
      }
    },
    {
      "cell_type": "code",
      "source": [],
      "metadata": {
        "id": "0uQwBD1GX6cE"
      },
      "execution_count": null,
      "outputs": []
    },
    {
      "cell_type": "markdown",
      "source": [
        "6. If a dictionary is stored in spam, what is the difference between the expressions cat in spam andcat in spam.values()?\n",
        "**\n",
        "\n",
        "Answer: Use 'cat' in spam to see if 'cat' is a label (key) in the dictionary.\n",
        "Use 'cat' in spam.values() to see if 'cat' is the information (value) stored under any of the labels in the dictionary."
      ],
      "metadata": {
        "id": "BZLnoFBmbCj6"
      }
    },
    {
      "cell_type": "code",
      "source": [
        "#6.example\n",
        "my_dict={\"dog\":\"foo\",\"cat\":\"bar\"}\n",
        "print(\"cat\" in my_dict) ## This is True because 'cat' is a key in the dictionary\n",
        "print(\"cat\" in my_dict.values()) ## This may be True or False depending on the values in your dictionary\n",
        "# since we're checking if 'cat' is a value anywhere"
      ],
      "metadata": {
        "colab": {
          "base_uri": "https://localhost:8080/"
        },
        "id": "zbFemzCYciS4",
        "outputId": "4d145be3-a75c-4682-ec50-a1dc220de1fc"
      },
      "execution_count": 2,
      "outputs": [
        {
          "output_type": "stream",
          "name": "stdout",
          "text": [
            "True\n",
            "False\n"
          ]
        }
      ]
    },
    {
      "cell_type": "markdown",
      "source": [
        "7. What is a shortcut for the following code?\n",
        "**\n",
        "Answer:   if \"color\" not in spam:\n",
        "\n",
        "spam[\"color\"]=\"black\"\n",
        "\n",
        "the shortcut of this code is spam.setdefault(\"color\",\"black\")\n",
        "**\n"
      ],
      "metadata": {
        "id": "iPiy94cNdM-s"
      }
    },
    {
      "cell_type": "markdown",
      "source": [
        "8. How do you pretty print dictionary values using which module and function?\n",
        "\n",
        "Ans\" There are two common ways to pretty print dictionary values in python:\n",
        "\n",
        "1.pprint\n",
        "\n",
        "2.Using the json module\n"
      ],
      "metadata": {
        "id": "mTJ60bh2eIx8"
      }
    },
    {
      "cell_type": "code",
      "source": [
        "#8\n",
        "my_dict={\"name\":\"saloni\",\"age\":25, \"city\":\"Meerut\"}\n",
        "\n",
        "#using pprint\n",
        "import pprint\n",
        "pprint.pprint(my_dict)\n",
        "\n",
        "#using json\n",
        "import json\n",
        "print(json.dumps(my_dict, indent=4))"
      ],
      "metadata": {
        "colab": {
          "base_uri": "https://localhost:8080/"
        },
        "id": "cUCtQzY9dbsn",
        "outputId": "80101da5-48b2-4be2-bac6-548e1d31143f"
      },
      "execution_count": 6,
      "outputs": [
        {
          "output_type": "stream",
          "name": "stdout",
          "text": [
            "{'age': 25, 'city': 'Meerut', 'name': 'saloni'}\n",
            "{\n",
            "    \"name\": \"saloni\",\n",
            "    \"age\": 25,\n",
            "    \"city\": \"Meerut\"\n",
            "}\n"
          ]
        }
      ]
    },
    {
      "cell_type": "code",
      "source": [],
      "metadata": {
        "id": "HfH3pxFSdhVL"
      },
      "execution_count": null,
      "outputs": []
    }
  ]
}