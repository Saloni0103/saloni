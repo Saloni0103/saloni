{
  "nbformat": 4,
  "nbformat_minor": 0,
  "metadata": {
    "colab": {
      "provenance": []
    },
    "kernelspec": {
      "name": "python3",
      "display_name": "Python 3"
    },
    "language_info": {
      "name": "python"
    }
  },
  "cells": [
    {
      "cell_type": "code",
      "source": [],
      "metadata": {
        "id": "jOZjJXB_KjrR"
      },
      "execution_count": 8,
      "outputs": []
    },
    {
      "cell_type": "markdown",
      "source": [],
      "metadata": {
        "id": "lP7iJ8ykKkon"
      }
    },
    {
      "cell_type": "code",
      "execution_count": 8,
      "metadata": {
        "id": "gGPMZYzqKIne"
      },
      "outputs": [],
      "source": []
    },
    {
      "cell_type": "markdown",
      "source": [
        "What exactly is []?\n",
        "\n",
        "\n",
        "In Python, square brackets [] have several important uses:\n",
        "\n",
        "List Definition:\n",
        "\n",
        "The primary use of [] is to define lists, which are ordered collections of items that can be of different data types (integers, strings, floats, etc.).\n",
        "You enclose the items within the square brackets, separated by commas:\n",
        "\n",
        "Use\tExample\n",
        "List Definition\tmy_list = [1, \"hello\", 3.14]\n",
        "Accessing List Elements\tfirst_element = my_list[0]\n",
        "Slicing\tsub_list = my_list[1:3]\n",
        "Empty List Creation\tempty_list = []\n",
        "I hope this comprehensive explanation clarifies the different functionalities of [] in\n"
      ],
      "metadata": {
        "id": "tJ4toQuoKMTR"
      }
    },
    {
      "cell_type": "markdown",
      "source": [
        "spam[2:2] creates an empty slice at index 2. Slicing with the same start and end index inserts elements at that position.\n",
        "Assigning ['hello'] to the slice inserts the list containing 'hello' at index 2, effectively making 'hello' the third element.\n"
      ],
      "metadata": {
        "id": "5HuF7OGTFMcf"
      }
    },
    {
      "cell_type": "code",
      "source": [
        "spam = [2, 4, 6, 8, 10]\n",
        "spam[1:5] = ['hello']\n",
        "print(spam)\n"
      ],
      "metadata": {
        "id": "uQU5vZ3UKlX8",
        "colab": {
          "base_uri": "https://localhost:8080/"
        },
        "outputId": "b324488b-1b65-4de9-daae-ba955107dacd"
      },
      "execution_count": 9,
      "outputs": [
        {
          "output_type": "stream",
          "name": "stdout",
          "text": [
            "[2, 'hello']\n"
          ]
        }
      ]
    },
    {
      "cell_type": "code",
      "source": [
        "spam.insert(1, \"hello\")\n",
        "print(spam)\n"
      ],
      "metadata": {
        "colab": {
          "base_uri": "https://localhost:8080/"
        },
        "id": "n5w1vDqaFtN9",
        "outputId": "3de1779b-c98c-421c-f348-8bba29870be2"
      },
      "execution_count": 10,
      "outputs": [
        {
          "output_type": "stream",
          "name": "stdout",
          "text": [
            "[2, 'hello', 'hello']\n"
          ]
        }
      ]
    },
    {
      "cell_type": "code",
      "source": [
        "spam[2:2] = [\"hello\"]\n",
        "print(spam)\n"
      ],
      "metadata": {
        "colab": {
          "base_uri": "https://localhost:8080/"
        },
        "id": "cJkwIbfDH-eO",
        "outputId": "f239eddd-b451-455e-bf9a-4da1fb57f056"
      },
      "execution_count": 11,
      "outputs": [
        {
          "output_type": "stream",
          "name": "stdout",
          "text": [
            "[2, 'hello', 'hello', 'hello']\n"
          ]
        }
      ]
    },
    {
      "cell_type": "code",
      "source": [
        "spam = ['a', 'b', 'c', 'd']\n",
        "index = int(int(\"3\"* 2) / 11)\n",
        "value = spam[index]\n",
        "\n",
        "print(value)"
      ],
      "metadata": {
        "colab": {
          "base_uri": "https://localhost:8080/"
        },
        "id": "ehu5ftSNIi2P",
        "outputId": "97c4a09f-725f-44b0-91a2-f73e1a0e04a0"
      },
      "execution_count": 12,
      "outputs": [
        {
          "output_type": "stream",
          "name": "stdout",
          "text": [
            "d\n"
          ]
        }
      ]
    },
    {
      "cell_type": "code",
      "source": [
        "spam = ['a', 'b', 'c', 'd']\n",
        "spam[-1]"
      ],
      "metadata": {
        "colab": {
          "base_uri": "https://localhost:8080/",
          "height": 35
        },
        "id": "9-gyGViiJ3oR",
        "outputId": "3a9b0eb7-4ac7-4c49-e277-9774c5d3a523"
      },
      "execution_count": 13,
      "outputs": [
        {
          "output_type": "execute_result",
          "data": {
            "text/plain": [
              "'d'"
            ],
            "application/vnd.google.colaboratory.intrinsic+json": {
              "type": "string"
            }
          },
          "metadata": {},
          "execution_count": 13
        }
      ]
    },
    {
      "cell_type": "code",
      "source": [
        "spam = ['a', 'b', 'c', 'd']\n",
        "spam[:2]"
      ],
      "metadata": {
        "colab": {
          "base_uri": "https://localhost:8080/"
        },
        "id": "xsd8ThHkKRKg",
        "outputId": "333e5e32-9201-407a-e00d-e3ce9568c671"
      },
      "execution_count": 14,
      "outputs": [
        {
          "output_type": "execute_result",
          "data": {
            "text/plain": [
              "['a', 'b']"
            ]
          },
          "metadata": {},
          "execution_count": 14
        }
      ]
    },
    {
      "cell_type": "code",
      "source": [
        "corrected_bacon = [3.14, 'cat', 11, 'cat', True]\n",
        "\n"
      ],
      "metadata": {
        "id": "SMoiVdoXKhut"
      },
      "execution_count": 15,
      "outputs": []
    },
    {
      "cell_type": "code",
      "source": [
        "bacon = [3.14,'cat', 11, 'cat', True]\n",
        "print(bacon.index('cat'))\n"
      ],
      "metadata": {
        "id": "gvRBvJtuYiVU",
        "colab": {
          "base_uri": "https://localhost:8080/"
        },
        "outputId": "38f72856-cf27-4755-eb64-8e832ebbf60d"
      },
      "execution_count": 16,
      "outputs": [
        {
          "output_type": "stream",
          "name": "stdout",
          "text": [
            "1\n"
          ]
        }
      ]
    },
    {
      "cell_type": "code",
      "source": [
        "bacon = [3.14, 'cat', 11, 'cat', True]\n",
        "bacon.append(99)\n",
        "print(bacon)"
      ],
      "metadata": {
        "colab": {
          "base_uri": "https://localhost:8080/"
        },
        "id": "gG_bVhA20fac",
        "outputId": "cbb0b7a8-0852-40a2-b30a-c38789f2139a"
      },
      "execution_count": 17,
      "outputs": [
        {
          "output_type": "stream",
          "name": "stdout",
          "text": [
            "[3.14, 'cat', 11, 'cat', True, 99]\n"
          ]
        }
      ]
    },
    {
      "cell_type": "code",
      "source": [
        "bacon = [3.14,'cat', 11,'cat', True]\n",
        "bacon.remove('cat')\n",
        "print(bacon)"
      ],
      "metadata": {
        "colab": {
          "base_uri": "https://localhost:8080/"
        },
        "id": "gSFkAb6S0zt6",
        "outputId": "a0408159-de4d-4d49-fcdf-14e3fa9a56fb"
      },
      "execution_count": 21,
      "outputs": [
        {
          "output_type": "stream",
          "name": "stdout",
          "text": [
            "[3.14, 11, 'cat', True]\n"
          ]
        }
      ]
    },
    {
      "cell_type": "markdown",
      "source": [
        "In many programming languages, there are specific operators for manipulating lists:\n",
        "\n",
        "List Concatenation Operator: This operator combines elements from multiple lists to create a new list. Common concatenation operators include:\n",
        "\n",
        "Plus sign (+): In some languages like Python, the plus sign (+) acts as the concatenation operator for lists. For instance, list1 + list2 would create a new list containing elements from both list1 and list2.\n",
        "Extend method: Other languages might use a method like extend to achieve concatenation. For example, list1.extend(list2) would append elements from list2 to the end of list1 (modifying list1).\n",
        "List Replication Operator: This operator creates multiple copies of a list, often used for repetition. Common replication operators include:\n",
        "\n",
        "Multiplication sign (*): In some languages, the asterisk (*) is used for replication. For instance, 3 * list1 would create a new list containing three copies of all the elements from list1."
      ],
      "metadata": {
        "id": "TihreUNB2tfU"
      }
    },
    {
      "cell_type": "markdown",
      "source": [
        "The primary distinction between the append() and insert() methods in Python lies in where they add elements to a list:\n",
        "\n",
        "append(element):  This method adds a new element to the end of the existing list. It takes a single argument, which is the element you want to append.\n",
        "\n",
        "insert(index, element):  This method inserts a new element at a specific position within the list. It takes two arguments:\n",
        "\n",
        "index: This specifies the position where you want to insert the element. The index starts from 0, meaning 0 represents the beginning of the list, 1 represents the second position, and so on.\n",
        "element: This is the element you want to insert at the specified index.\n"
      ],
      "metadata": {
        "id": "1rc65oTA3NAP"
      }
    },
    {
      "cell_type": "code",
      "source": [
        "my_list = [1, 3, 5]\n",
        "\n",
        "# Append 7 to the end of the list\n",
        "my_list.append(7)\n",
        "print(\"After append:\", my_list)\n",
        "\n"
      ],
      "metadata": {
        "colab": {
          "base_uri": "https://localhost:8080/"
        },
        "id": "YVmx2cua1Hx8",
        "outputId": "ff344ec6-3546-41a5-ac1f-ec297f88b02d"
      },
      "execution_count": 24,
      "outputs": [
        {
          "output_type": "stream",
          "name": "stdout",
          "text": [
            "After append: [1, 3, 5, 7]\n"
          ]
        }
      ]
    },
    {
      "cell_type": "code",
      "source": [
        "my_list.insert(1, 2)\n",
        "print(\"After insert:\", my_list)"
      ],
      "metadata": {
        "colab": {
          "base_uri": "https://localhost:8080/"
        },
        "id": "Q2OB_NdG3SJJ",
        "outputId": "7b1bf0dc-f001-479f-813e-3665e4ee215b"
      },
      "execution_count": 25,
      "outputs": [
        {
          "output_type": "stream",
          "name": "stdout",
          "text": [
            "After insert: [1, 2, 3, 5, 7]\n"
          ]
        }
      ]
    },
    {
      "cell_type": "markdown",
      "source": [
        "@@@There are two commonly used methods for removing items from a list in Python:\n",
        "\n",
        "remove(element): This method removes the first occurrence of a specified element from the list. It takes the element's value as an argument and searches for it within the list. If the element is found, it's removed from the list permanently.\n",
        "Key points about remove():\n",
        "\n",
        "It only removes the first occurrence. If there are duplicates, subsequent ones remain in the list.\n",
        "It raises a ValueError exception if the element is not found in the list.\n",
        "pop(index=-1): This method removes the element at a specific index from the list and returns the removed element. It can take an optional argument, index, which specifies the position of the element to be removed.\n",
        "Key points about pop():\n",
        "\n",
        "By default (without an argument), it removes and returns the last element from the list (similar to removing from the end).\n",
        "You can specify the index to remove an element from any position in the list.\n",
        "If the provided index is out of range, it raises an IndexError exception."
      ],
      "metadata": {
        "id": "naDRyfUM4OkL"
      }
    },
    {
      "cell_type": "markdown",
      "source": [
        "@@@List values and string values are not inherently identical in Python. They are fundamentally different data types with distinct characteristics:\n",
        "\n",
        "Strings:\n",
        "\n",
        "Represent sequences of characters.\n",
        "Immutable - Once created, the characters within a string cannot be modified.\n",
        "Elements must be characters.\n",
        "Lists:\n",
        "\n",
        "Represent ordered collections of items.\n",
        "Mutable - Elements within a list can be changed or replaced after creation.\n",
        "Elements can be of various data types, including numbers, strings, or even other lists."
      ],
      "metadata": {
        "id": "3S0AjQN-4sUv"
      }
    },
    {
      "cell_type": "markdown",
      "source": [
        " @@@Tuples and lists are both fundamental data structures used to store collections of items in Python, but they differ significantly in terms of mutability:\n",
        "\n",
        " Lists (Mutable): Lists are mutable, meaning their elements can be changed, added, or removed after creation. This flexibility makes them suitable for situations where you need to modify the data within the collection.\n",
        "\n",
        " Tuples (Immutable): Tuples, on the other hand, are immutable. Once a tuple is\n",
        "created, its elements cannot be altered. This immutability ensures data integrity and makes tuples useful for representing fixed datasets or configurations."
      ],
      "metadata": {
        "id": "p9rWWay_49Wa"
      }
    },
    {
      "cell_type": "code",
      "source": [
        "##There are two ways to create a tuple containing only the integer 42 in Python:\n",
        "my_tuple = (42,)  # The comma after 42 is essential\n",
        "\n",
        "my_tuple = 42,  # Packing with parentheses\n",
        "\n"
      ],
      "metadata": {
        "id": "7iiZUfSj3jBi"
      },
      "execution_count": 27,
      "outputs": []
    },
    {
      "cell_type": "code",
      "source": [
        "### Converting List to Tuple:\n",
        "###tuple() function\n",
        "my_list = [1, \"apple\", 3.14]\n",
        "my_tuple = tuple(my_list)\n",
        "print(my_tuple)\n"
      ],
      "metadata": {
        "colab": {
          "base_uri": "https://localhost:8080/"
        },
        "id": "-aQpoxJn6FVG",
        "outputId": "280a7d80-eee4-42d4-b687-c8823ae8e368"
      },
      "execution_count": 29,
      "outputs": [
        {
          "output_type": "stream",
          "name": "stdout",
          "text": [
            "(1, 'apple', 3.14)\n"
          ]
        }
      ]
    },
    {
      "cell_type": "code",
      "source": [
        "###Converting Tuple to List:\n",
        "##list() function\n",
        "my_tuple = (4, \"banana\", True)\n",
        "my_list = list(my_tuple)\n",
        "print(my_list)\n"
      ],
      "metadata": {
        "colab": {
          "base_uri": "https://localhost:8080/"
        },
        "id": "LFC1uPkm6nk2",
        "outputId": "bcf1d212-a105-4bbd-8a53-1a7af374c29a"
      },
      "execution_count": 30,
      "outputs": [
        {
          "output_type": "stream",
          "name": "stdout",
          "text": [
            "[4, 'banana', True]\n"
          ]
        }
      ]
    },
    {
      "cell_type": "markdown",
      "source": [
        "###Here's a breakdown of the concept:\n",
        "Lists: Lists are data structures that store collections of items in an ordered manner. They reside in memory.\n",
        "Variables: Variables are named containers that refer to values stored in memory.\n",
        "References: When you assign a list to a variable, the variable doesn't copy the entire list. Instead, it stores a reference (like a memory address) that points to the actual list's location in memory.\n",
        "This approach offers several advantages:\n",
        "\n",
        "Efficiency: Since only a reference is stored, assigning lists to variables is faster and uses less memory compared to copying the entire list each time.\n",
        "Shared Modifications: If you modify the list through the variable, the changes are reflected in the original list because they both point to the same location in memory."
      ],
      "metadata": {
        "id": "Ye3pNckR7Fj-"
      }
    },
    {
      "cell_type": "markdown",
      "source": [
        "The copy.copy() and copy.deepcopy() functions in Python both create copies of existing objects, but they differ in the depth of the copying process:\n",
        "\n",
        "copy.copy() (Shallow Copy):\n",
        "\n",
        "Creates a new object of the same type.\n",
        "Copies references to the elements within the original object.\n",
        "Changes to the copied elements will affect the original object, as they both reference the same underlying data.\n",
        "This method is suitable for situations where you want a new object with independent references but don't need to duplicate nested objects.\n",
        "copy.deepcopy() (Deep Copy):\n",
        "\n",
        "Creates a new object of the same type.\n",
        "Recursively copies the elements within the original object.\n",
        "Creates independent copies of nested objects.\n",
        "Changes to the copied elements won't affect the original object, as they are separate copies.\n",
        "This method is more resource-intensive but ensures complete independence between the original and copied objects."
      ],
      "metadata": {
        "id": "b4A9r70B77va"
      }
    },
    {
      "cell_type": "code",
      "source": [
        "import copy\n",
        "\n",
        "original_list = [[1, 2, 3], [4, 5, 6]]\n",
        "\n",
        "shallow_copy = copy.copy(original_list)\n",
        "\n",
        "shallow_copy[0][0] = 99\n",
        "\n",
        "print(\"Original list:\", original_list)\n",
        "print(\"Shallow copy:\", shallow_copy)\n",
        "\n"
      ],
      "metadata": {
        "colab": {
          "base_uri": "https://localhost:8080/"
        },
        "id": "9-qETfLe7wfD",
        "outputId": "f2e6447c-084a-48e5-aa6f-531f72d63235"
      },
      "execution_count": 32,
      "outputs": [
        {
          "output_type": "stream",
          "name": "stdout",
          "text": [
            "Original list: [[99, 2, 3], [4, 5, 6]]\n",
            "Shallow copy: [[99, 2, 3], [4, 5, 6]]\n"
          ]
        }
      ]
    },
    {
      "cell_type": "code",
      "source": [
        "deep_copy = copy.deepcopy(original_list)\n",
        "\n",
        "\n",
        "deep_copy[1].append(7)\n",
        "\n",
        "print(\"Original list:\", original_list)\n",
        "print(\"Deep copy:\", deep_copy)\n"
      ],
      "metadata": {
        "colab": {
          "base_uri": "https://localhost:8080/"
        },
        "id": "cQ9_iCjJ8RAF",
        "outputId": "5a37b746-d94d-4167-fad3-ac1ccabdf434"
      },
      "execution_count": 33,
      "outputs": [
        {
          "output_type": "stream",
          "name": "stdout",
          "text": [
            "Original list: [[99, 2, 3], [4, 5, 6]]\n",
            "Deep copy: [[99, 2, 3], [4, 5, 6, 7]]\n"
          ]
        }
      ]
    },
    {
      "cell_type": "code",
      "source": [],
      "metadata": {
        "id": "yV4NwsZ88ex6"
      },
      "execution_count": null,
      "outputs": []
    }
  ]
}